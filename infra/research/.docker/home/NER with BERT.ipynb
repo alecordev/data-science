{
 "cells": [
  {
   "cell_type": "code",
   "execution_count": 1,
   "id": "d6145128-7113-4e81-b7c0-54030b35d06e",
   "metadata": {},
   "outputs": [
    {
     "data": {
      "application/vnd.jupyter.widget-view+json": {
       "model_id": "e9d501beef934452b0d243391e1379c3",
       "version_major": 2,
       "version_minor": 0
      },
      "text/plain": [
       "tokenizer_config.json:   0%|          | 0.00/59.0 [00:00<?, ?B/s]"
      ]
     },
     "metadata": {},
     "output_type": "display_data"
    },
    {
     "data": {
      "application/vnd.jupyter.widget-view+json": {
       "model_id": "85cd1ad0b32a4dc9a6fd2073ac487aa7",
       "version_major": 2,
       "version_minor": 0
      },
      "text/plain": [
       "config.json:   0%|          | 0.00/829 [00:00<?, ?B/s]"
      ]
     },
     "metadata": {},
     "output_type": "display_data"
    },
    {
     "data": {
      "application/vnd.jupyter.widget-view+json": {
       "model_id": "3f7ecaa90dac4a1f89822694b0ce8c26",
       "version_major": 2,
       "version_minor": 0
      },
      "text/plain": [
       "vocab.txt:   0%|          | 0.00/213k [00:00<?, ?B/s]"
      ]
     },
     "metadata": {},
     "output_type": "display_data"
    },
    {
     "data": {
      "application/vnd.jupyter.widget-view+json": {
       "model_id": "eb46fd2b6656477d848ca15b7a6570ef",
       "version_major": 2,
       "version_minor": 0
      },
      "text/plain": [
       "added_tokens.json:   0%|          | 0.00/2.00 [00:00<?, ?B/s]"
      ]
     },
     "metadata": {},
     "output_type": "display_data"
    },
    {
     "data": {
      "application/vnd.jupyter.widget-view+json": {
       "model_id": "45a1184f42c543188ff5f77a911e7db1",
       "version_major": 2,
       "version_minor": 0
      },
      "text/plain": [
       "special_tokens_map.json:   0%|          | 0.00/112 [00:00<?, ?B/s]"
      ]
     },
     "metadata": {},
     "output_type": "display_data"
    },
    {
     "data": {
      "application/vnd.jupyter.widget-view+json": {
       "model_id": "f10bf092a01b45b5b2e510af0ecd76aa",
       "version_major": 2,
       "version_minor": 0
      },
      "text/plain": [
       "model.safetensors:   0%|          | 0.00/433M [00:00<?, ?B/s]"
      ]
     },
     "metadata": {},
     "output_type": "display_data"
    },
    {
     "name": "stderr",
     "output_type": "stream",
     "text": [
      "Some weights of the model checkpoint at dslim/bert-base-NER were not used when initializing BertForTokenClassification: ['bert.pooler.dense.bias', 'bert.pooler.dense.weight']\n",
      "- This IS expected if you are initializing BertForTokenClassification from the checkpoint of a model trained on another task or with another architecture (e.g. initializing a BertForSequenceClassification model from a BertForPreTraining model).\n",
      "- This IS NOT expected if you are initializing BertForTokenClassification from the checkpoint of a model that you expect to be exactly identical (initializing a BertForSequenceClassification model from a BertForSequenceClassification model).\n"
     ]
    },
    {
     "name": "stdout",
     "output_type": "stream",
     "text": [
      "[{'entity': 'B-PER', 'score': 0.9990139, 'index': 4, 'word': 'Wolfgang', 'start': 11, 'end': 19}, {'entity': 'B-LOC', 'score': 0.999645, 'index': 9, 'word': 'Berlin', 'start': 34, 'end': 40}]\n"
     ]
    }
   ],
   "source": [
    "from transformers import AutoTokenizer, AutoModelForTokenClassification\n",
    "from transformers import pipeline\n",
    "\n",
    "tokenizer = AutoTokenizer.from_pretrained(\"dslim/bert-base-NER\")\n",
    "model = AutoModelForTokenClassification.from_pretrained(\"dslim/bert-base-NER\")\n",
    "\n",
    "nlp = pipeline(\"ner\", model=model, tokenizer=tokenizer)\n",
    "example = \"My name is Wolfgang and I live in Berlin\"\n",
    "\n",
    "ner_results = nlp(example)\n",
    "print(ner_results)"
   ]
  },
  {
   "cell_type": "code",
   "execution_count": 3,
   "id": "d5c0cca8-4f2d-4350-8a34-cfe442982b77",
   "metadata": {},
   "outputs": [
    {
     "name": "stdout",
     "output_type": "stream",
     "text": [
      "292 ms ± 13.2 ms per loop (mean ± std. dev. of 7 runs, 1 loop each)\n"
     ]
    }
   ],
   "source": [
    "txt = \"\"\"Intel Corp. offered more transparency around its business units earlier this week, but investors didn’t seem to like what they saw.\n",
    "\n",
    "While Wall Street largely expected the economics of Intel’s foundry business to be bad, the chip maker appears to have surprised people with the magnitude of the weakness there when it broke out its manufacturing and product financials for the first time in a Tuesday afternoon update.\n",
    "\n",
    "Don’t miss: Intel’s steep foundry losses aren’t a surprise. Why its stock is still sliding.\n",
    "\n",
    "The foundry business had a $7 billion operating loss last year, translating to a negative 37% operating margin. Intel INTC, -2.57% expects losses for the segment to peak this year.\n",
    "\n",
    "“[T]he idea that things are still getting worse in 2024 might have been\n",
    "taken somewhat poorly; if anything the idea that a -37% operating margin and $7 [billion] loss do not yet represent a trough is somewhat breathtaking especially given all the cost cuts the company was supposedly implementing last year,” Bernstein’s Stacy Rasgon wrote in a note to clients Friday.\n",
    "\n",
    "Intel’s stock is down 2.3% in afternoon trading Friday, even as the S&P 500 SPX and PHLX Semiconductor Index SOX are rallying. The stock is off 12.2% so far this week, putting on track for its worst weekly percentage drop since the week ending July 24, 2020, according to Dow Jones Market Data. The stock fell 15.7% that week.\n",
    "\n",
    "Investors also appear disappointed that Intel is moving its goalposts, according to Rasgon, who flagged that the company pushed out its timeline for achieving 60% gross margins and 40% operating margins. Intel now expects that to occur in 2030, not 2026.\n",
    "\n",
    "“We understand that given the situation pain was likely inevitable, and also recognize that investors are not necessarily the only audience for a\n",
    "company’s pronouncements. And maybe now expectations are getting to where they need to be,” Rasgon wrote. “But it does seem that some of the turmoil could have been avoided (or at least muted) by taking a more realistic stance on things from the start.”\n",
    "\n",
    "He began that section of his note with the heading: “Why do they do this to themselves?”\n",
    "\n",
    "Rasgon rates the stock at market perform with a $42 target price.\"\"\"\n",
    "%timeit nlp(txt)"
   ]
  },
  {
   "cell_type": "code",
   "execution_count": 4,
   "id": "1c148c97-0bba-4f39-a1cc-b4e83a1443c7",
   "metadata": {},
   "outputs": [
    {
     "data": {
      "text/plain": [
       "[{'entity': 'B-ORG',\n",
       "  'score': 0.9994691,\n",
       "  'index': 1,\n",
       "  'word': 'Intel',\n",
       "  'start': 0,\n",
       "  'end': 5},\n",
       " {'entity': 'I-ORG',\n",
       "  'score': 0.99930894,\n",
       "  'index': 2,\n",
       "  'word': 'Corp',\n",
       "  'start': 6,\n",
       "  'end': 10},\n",
       " {'entity': 'B-LOC',\n",
       "  'score': 0.9937435,\n",
       "  'index': 28,\n",
       "  'word': 'Wall',\n",
       "  'start': 139,\n",
       "  'end': 143},\n",
       " {'entity': 'I-LOC',\n",
       "  'score': 0.9969037,\n",
       "  'index': 29,\n",
       "  'word': 'Street',\n",
       "  'start': 144,\n",
       "  'end': 150},\n",
       " {'entity': 'B-ORG',\n",
       "  'score': 0.9984078,\n",
       "  'index': 35,\n",
       "  'word': 'Intel',\n",
       "  'start': 185,\n",
       "  'end': 190},\n",
       " {'entity': 'B-ORG',\n",
       "  'score': 0.99886847,\n",
       "  'index': 85,\n",
       "  'word': 'Intel',\n",
       "  'start': 432,\n",
       "  'end': 437},\n",
       " {'entity': 'B-ORG',\n",
       "  'score': 0.9923705,\n",
       "  'index': 128,\n",
       "  'word': 'Intel',\n",
       "  'start': 625,\n",
       "  'end': 630},\n",
       " {'entity': 'I-ORG',\n",
       "  'score': 0.68710154,\n",
       "  'index': 129,\n",
       "  'word': 'IN',\n",
       "  'start': 631,\n",
       "  'end': 633},\n",
       " {'entity': 'I-ORG',\n",
       "  'score': 0.9150378,\n",
       "  'index': 130,\n",
       "  'word': '##TC',\n",
       "  'start': 633,\n",
       "  'end': 635},\n",
       " {'entity': 'B-PER',\n",
       "  'score': 0.7294311,\n",
       "  'index': 213,\n",
       "  'word': 'Bernstein',\n",
       "  'start': 1004,\n",
       "  'end': 1013},\n",
       " {'entity': 'B-PER',\n",
       "  'score': 0.99841416,\n",
       "  'index': 216,\n",
       "  'word': 'Stacy',\n",
       "  'start': 1016,\n",
       "  'end': 1021},\n",
       " {'entity': 'I-PER',\n",
       "  'score': 0.9934168,\n",
       "  'index': 217,\n",
       "  'word': 'Ra',\n",
       "  'start': 1022,\n",
       "  'end': 1024},\n",
       " {'entity': 'B-ORG',\n",
       "  'score': 0.998317,\n",
       "  'index': 228,\n",
       "  'word': 'Intel',\n",
       "  'start': 1065,\n",
       "  'end': 1070},\n",
       " {'entity': 'B-MISC',\n",
       "  'score': 0.98945844,\n",
       "  'index': 246,\n",
       "  'word': 'S',\n",
       "  'start': 1133,\n",
       "  'end': 1134},\n",
       " {'entity': 'I-MISC',\n",
       "  'score': 0.82483214,\n",
       "  'index': 247,\n",
       "  'word': '&',\n",
       "  'start': 1134,\n",
       "  'end': 1135},\n",
       " {'entity': 'I-MISC',\n",
       "  'score': 0.9825868,\n",
       "  'index': 248,\n",
       "  'word': 'P',\n",
       "  'start': 1135,\n",
       "  'end': 1136},\n",
       " {'entity': 'B-MISC',\n",
       "  'score': 0.9962853,\n",
       "  'index': 253,\n",
       "  'word': 'P',\n",
       "  'start': 1149,\n",
       "  'end': 1150},\n",
       " {'entity': 'I-MISC',\n",
       "  'score': 0.94209266,\n",
       "  'index': 254,\n",
       "  'word': '##HL',\n",
       "  'start': 1150,\n",
       "  'end': 1152},\n",
       " {'entity': 'I-MISC',\n",
       "  'score': 0.9882444,\n",
       "  'index': 255,\n",
       "  'word': '##X',\n",
       "  'start': 1152,\n",
       "  'end': 1153},\n",
       " {'entity': 'I-MISC',\n",
       "  'score': 0.9603906,\n",
       "  'index': 256,\n",
       "  'word': 'Semi',\n",
       "  'start': 1154,\n",
       "  'end': 1158},\n",
       " {'entity': 'I-MISC',\n",
       "  'score': 0.9779218,\n",
       "  'index': 257,\n",
       "  'word': '##conductor',\n",
       "  'start': 1158,\n",
       "  'end': 1167},\n",
       " {'entity': 'I-MISC',\n",
       "  'score': 0.97353834,\n",
       "  'index': 258,\n",
       "  'word': 'Index',\n",
       "  'start': 1168,\n",
       "  'end': 1173},\n",
       " {'entity': 'B-MISC',\n",
       "  'score': 0.9950258,\n",
       "  'index': 298,\n",
       "  'word': 'Dow',\n",
       "  'start': 1337,\n",
       "  'end': 1340},\n",
       " {'entity': 'I-MISC',\n",
       "  'score': 0.99883074,\n",
       "  'index': 299,\n",
       "  'word': 'Jones',\n",
       "  'start': 1341,\n",
       "  'end': 1346},\n",
       " {'entity': 'I-MISC',\n",
       "  'score': 0.99868554,\n",
       "  'index': 300,\n",
       "  'word': 'Market',\n",
       "  'start': 1347,\n",
       "  'end': 1353},\n",
       " {'entity': 'I-MISC',\n",
       "  'score': 0.9984232,\n",
       "  'index': 301,\n",
       "  'word': 'Data',\n",
       "  'start': 1354,\n",
       "  'end': 1358},\n",
       " {'entity': 'B-ORG',\n",
       "  'score': 0.99874204,\n",
       "  'index': 320,\n",
       "  'word': 'Intel',\n",
       "  'start': 1433,\n",
       "  'end': 1438},\n",
       " {'entity': 'B-ORG',\n",
       "  'score': 0.7621645,\n",
       "  'index': 330,\n",
       "  'word': 'Ra',\n",
       "  'start': 1477,\n",
       "  'end': 1479},\n",
       " {'entity': 'I-ORG',\n",
       "  'score': 0.33217147,\n",
       "  'index': 331,\n",
       "  'word': '##s',\n",
       "  'start': 1479,\n",
       "  'end': 1480},\n",
       " {'entity': 'B-ORG',\n",
       "  'score': 0.99889934,\n",
       "  'index': 356,\n",
       "  'word': 'Intel',\n",
       "  'start': 1597,\n",
       "  'end': 1602},\n",
       " {'entity': 'B-PER',\n",
       "  'score': 0.41602087,\n",
       "  'index': 416,\n",
       "  'word': 'Ra',\n",
       "  'start': 1887,\n",
       "  'end': 1889},\n",
       " {'entity': 'B-PER',\n",
       "  'score': 0.4883955,\n",
       "  'index': 475,\n",
       "  'word': 'Ra',\n",
       "  'start': 2140,\n",
       "  'end': 2142}]"
      ]
     },
     "execution_count": 4,
     "metadata": {},
     "output_type": "execute_result"
    }
   ],
   "source": [
    "nlp(txt)"
   ]
  },
  {
   "cell_type": "code",
   "execution_count": null,
   "id": "7e52fb6c-76cd-48c7-978c-524f5e23438e",
   "metadata": {},
   "outputs": [],
   "source": []
  }
 ],
 "metadata": {
  "kernelspec": {
   "display_name": "Python 3 (ipykernel)",
   "language": "python",
   "name": "python3"
  },
  "language_info": {
   "codemirror_mode": {
    "name": "ipython",
    "version": 3
   },
   "file_extension": ".py",
   "mimetype": "text/x-python",
   "name": "python",
   "nbconvert_exporter": "python",
   "pygments_lexer": "ipython3",
   "version": "3.10.14"
  }
 },
 "nbformat": 4,
 "nbformat_minor": 5
}
