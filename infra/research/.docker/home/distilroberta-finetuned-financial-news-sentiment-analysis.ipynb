{
 "cells": [
  {
   "cell_type": "code",
   "execution_count": 1,
   "id": "ac4fdd7d-6b5a-4f05-9795-c95497d2b2a0",
   "metadata": {},
   "outputs": [
    {
     "data": {
      "application/vnd.jupyter.widget-view+json": {
       "model_id": "46eae1999c0d4a1988b8fd511a7da32e",
       "version_major": 2,
       "version_minor": 0
      },
      "text/plain": [
       "config.json:   0%|          | 0.00/933 [00:00<?, ?B/s]"
      ]
     },
     "metadata": {},
     "output_type": "display_data"
    },
    {
     "data": {
      "application/vnd.jupyter.widget-view+json": {
       "model_id": "dd119181a8014df8b95a8c2d36521189",
       "version_major": 2,
       "version_minor": 0
      },
      "text/plain": [
       "model.safetensors:   0%|          | 0.00/328M [00:00<?, ?B/s]"
      ]
     },
     "metadata": {},
     "output_type": "display_data"
    },
    {
     "data": {
      "application/vnd.jupyter.widget-view+json": {
       "model_id": "ad5a20303d304238b57bfb261baf035d",
       "version_major": 2,
       "version_minor": 0
      },
      "text/plain": [
       "tokenizer_config.json:   0%|          | 0.00/333 [00:00<?, ?B/s]"
      ]
     },
     "metadata": {},
     "output_type": "display_data"
    },
    {
     "data": {
      "application/vnd.jupyter.widget-view+json": {
       "model_id": "c5caaeae498b456bba2874f0b8bb2e08",
       "version_major": 2,
       "version_minor": 0
      },
      "text/plain": [
       "vocab.json:   0%|          | 0.00/798k [00:00<?, ?B/s]"
      ]
     },
     "metadata": {},
     "output_type": "display_data"
    },
    {
     "data": {
      "application/vnd.jupyter.widget-view+json": {
       "model_id": "7a24b1c037f04010a1b94fd3c29f9936",
       "version_major": 2,
       "version_minor": 0
      },
      "text/plain": [
       "merges.txt:   0%|          | 0.00/456k [00:00<?, ?B/s]"
      ]
     },
     "metadata": {},
     "output_type": "display_data"
    },
    {
     "data": {
      "application/vnd.jupyter.widget-view+json": {
       "model_id": "61f7826fdbf14304ade0f22efd543321",
       "version_major": 2,
       "version_minor": 0
      },
      "text/plain": [
       "tokenizer.json:   0%|          | 0.00/1.36M [00:00<?, ?B/s]"
      ]
     },
     "metadata": {},
     "output_type": "display_data"
    },
    {
     "data": {
      "application/vnd.jupyter.widget-view+json": {
       "model_id": "bc43d2752e2c461098659bf2d2c5a155",
       "version_major": 2,
       "version_minor": 0
      },
      "text/plain": [
       "special_tokens_map.json:   0%|          | 0.00/239 [00:00<?, ?B/s]"
      ]
     },
     "metadata": {},
     "output_type": "display_data"
    }
   ],
   "source": [
    "# Use a pipeline as a high-level helper\n",
    "from transformers import pipeline\n",
    "\n",
    "pipe = pipeline(\"text-classification\", model=\"mrm8488/distilroberta-finetuned-financial-news-sentiment-analysis\")"
   ]
  },
  {
   "cell_type": "code",
   "execution_count": 8,
   "id": "a7150e10-c600-490c-b351-67471e1f50ce",
   "metadata": {},
   "outputs": [
    {
     "data": {
      "text/plain": [
       "[{'label': 'neutral', 'score': 0.8064975738525391}]"
      ]
     },
     "execution_count": 8,
     "metadata": {},
     "output_type": "execute_result"
    }
   ],
   "source": [
    "content = \"\"\"\n",
    "At some point in my coverage of the SPDR® S&P 500 ETF Trust (NYSEARCA:SPY, SP500), I stopped trying to time the market. The plethora of negative macro data and potential consequences I reported on in my bearish articles didn’t pan out in the end, and I decided to provide food for thought for my subscribers or readers who happened to come across my posts. That's why my today's article is rated \"Neutral,\" despite the seemingly bearish title.\n",
    "One very important piece of information before I describe my main thoughts: the risks to SPY that I will describe below do not encourage you to sell the ETF that may have been in your portfolio for many years. I think SPY is a very good and effective way to grow wealth over the long term. However, I see a very unfavorable picture for its near-term price action, so it might be worth considering selling some call options against the existing positions, or it makes sense not to increase the allocation to SPY in the next couple of months.\n",
    "Where do such concerns come from?\n",
    "I have disturbing thoughts when I think of the growing discrepancy between the real interest rate and the upward trend of the SPY. This is not a potential negative catalyst that could occur soon and interrupt the rally - it is a threat to the market here and now.\n",
    "Throughout 2023, we observed how the market followed a particular trend depending on the moves by the U.S. 10-year real yields (US10Y). There's a logical and concise explanation for why 10-year treasuries are impacting the stock market - they are perceived as a no-risk asset. Essentially, treasuries carry no credit risk, as commonly stated in corporate finance textbooks. Consequently, we can infer that the higher the risk-free yield, the lower the market demand for riskier assets (\"Why risk more when I can get enough now with no risk?\"), such as those represented in the S&P 500. This index predominantly includes large technology companies and a variety of fast-growing and quite expensive firms.\n",
    "\"\"\"\n",
    "\n",
    "content2 = \"\"\"\n",
    "This relationship between the stock market and treasuries broke down in 2024, forming an \"alligator gap\" in the charts above - meaning that the stock market ignored the rising dynamics of the 10-year rate and assumingly focused only on AI tailwinds (such a sharp unusual divergence looks like the open mouth of an alligator - hence the name). And here it is important to understand what depends on what. I see 2 possible scenarios that could follow from the current situation so that the usual relationship returns again:\n",
    "Real interest rates should fall sharply soon, giving the stock market an excuse for the growth that has occurred;\n",
    "\n",
    "The stock market will have to fall and start to reflect the current reality.\n",
    "I am not saying that the first option is impossible, but we have seen the likelihood of a rate hike dwindle before our eyes in recent weeks:\n",
    "Why this likelihood should reverse is not entirely clear given the strength that oil, gold and other commodities have shown in recent weeks:\n",
    "I believe that the current hawkish policy will turn around, but I think that the stock market has rushed ahead of the locomotive and priced in the turnaround too quickly than it actually needed to in order not to cause another round of higher inflation.\n",
    "So, I'm leaning towards the scenario with a possible correction - I also think it should be massive. I consider a correction to be \"massive\" when it reaches 10-20% - that's exactly how much I think the market needs to get rid of its overheated and overbought status.\n",
    "If we move away from the fundamental view and look at the technical picture, we see how the S&P 500's volatility index (VIX) formed the bottom lower and lower over many months. Then, on April 4, 2024, when the SPY suddenly began to fall sharply intraday and closed 1.22% lower at the end of the trading session, the VIX rushed upward (15%+), approaching a very important level:\n",
    "As far as I remember, previous selloffs of this magnitude have usually led to a continuation of the correction - the next logical technical level at which SPY should be attractive to buy again is 11-12% below today’s level, in my opinion.\n",
    "But again, I must remind everyone: this is not an attempt to time the market. I am merely sharing my hunch, without in any way calling for shorting the SPY (or anything else out there), just giving additional food for thought.\n",
    "Also, my conclusions about rate hikes may be wrong: of the two scenarios I described above, the 1st scenario could happen first. Then the SPY can continue to rise without massive corrections (as defined above). Despite this upside risk, however, I am skeptical: I think that before the rally continues, we should see a correction, which at the moment could be explained by a mispricing in relation to real interest rates.\n",
    "\"\"\"\n",
    "\n",
    "pipe(content)"
   ]
  },
  {
   "cell_type": "code",
   "execution_count": 20,
   "id": "0bdd3332-5d2d-49f4-b956-d8ba18a53902",
   "metadata": {},
   "outputs": [],
   "source": [
    "from transformers import AutoTokenizer\n",
    "\n",
    "tokenizer = AutoTokenizer.from_pretrained(\"mrm8488/distilroberta-finetuned-financial-news-sentiment-analysis\")\n",
    "\n",
    "def process_long_text(text, max_token_count=500):\n",
    "    \"\"\"\n",
    "    Process a long text that exceeds the maximum token limit by splitting it into smaller chunks.\n",
    "\n",
    "    Args:\n",
    "    - text (str): The input text to process.\n",
    "    - max_chunk_size (int): The maximum number of tokens per chunk.\n",
    "\n",
    "    Returns:\n",
    "    - A list of dictionaries containing the processed results for each chunk.\n",
    "    \"\"\"\n",
    "    tokens = tokenizer.tokenize(text)\n",
    "\n",
    "    results = []\n",
    "    current_position = 0\n",
    "\n",
    "    while current_position < len(tokens):\n",
    "        # Determine the end index for the current chunk\n",
    "        end_index = min(current_position + max_token_count, len(tokens))\n",
    "        # Extract the tokens for the current chunk\n",
    "        chunk_tokens = tokens[current_position:end_index]\n",
    "        # Convert the tokens back to text\n",
    "        chunk_text = tokenizer.convert_tokens_to_string(chunk_tokens)\n",
    "        # Process the chunk using the pipeline\n",
    "        result = pipe(chunk_text)\n",
    "        # Append the result to the list of results\n",
    "        results.append(result)\n",
    "        # Move to the next chunk\n",
    "        current_position = end_index\n",
    "\n",
    "    return results"
   ]
  },
  {
   "cell_type": "code",
   "execution_count": 21,
   "id": "c6365a97-33bd-4590-ac1f-3ce6bacd2f9a",
   "metadata": {},
   "outputs": [
    {
     "name": "stderr",
     "output_type": "stream",
     "text": [
      "Token indices sequence length is longer than the specified maximum sequence length for this model (600 > 512). Running this sequence through the model will result in indexing errors\n"
     ]
    },
    {
     "data": {
      "text/plain": [
       "[[{'label': 'negative', 'score': 0.9837300181388855}],\n",
       " [{'label': 'negative', 'score': 0.5995926260948181}]]"
      ]
     },
     "execution_count": 21,
     "metadata": {},
     "output_type": "execute_result"
    }
   ],
   "source": [
    "process_long_text(content2)"
   ]
  },
  {
   "cell_type": "code",
   "execution_count": null,
   "id": "d3bf843c-4deb-4905-b009-9589353a8ef8",
   "metadata": {},
   "outputs": [],
   "source": []
  }
 ],
 "metadata": {
  "kernelspec": {
   "display_name": "Python 3 (ipykernel)",
   "language": "python",
   "name": "python3"
  },
  "language_info": {
   "codemirror_mode": {
    "name": "ipython",
    "version": 3
   },
   "file_extension": ".py",
   "mimetype": "text/x-python",
   "name": "python",
   "nbconvert_exporter": "python",
   "pygments_lexer": "ipython3",
   "version": "3.10.14"
  }
 },
 "nbformat": 4,
 "nbformat_minor": 5
}
