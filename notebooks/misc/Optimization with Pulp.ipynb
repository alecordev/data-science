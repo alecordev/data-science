{
 "cells": [
  {
   "cell_type": "code",
   "execution_count": 1,
   "metadata": {},
   "outputs": [],
   "source": [
    "from pulp import LpMaximize, LpProblem, LpStatus, lpSum, LpVariable"
   ]
  },
  {
   "cell_type": "code",
   "execution_count": 2,
   "metadata": {},
   "outputs": [],
   "source": [
    "# Create the model\n",
    "model = LpProblem(name=\"small-problem\", sense=LpMaximize)"
   ]
  },
  {
   "cell_type": "code",
   "execution_count": 3,
   "metadata": {},
   "outputs": [],
   "source": [
    "# Initialize the decision variables\n",
    "x = LpVariable(name=\"x\", lowBound=0)\n",
    "y = LpVariable(name=\"y\", lowBound=0)"
   ]
  },
  {
   "cell_type": "code",
   "execution_count": 4,
   "metadata": {},
   "outputs": [],
   "source": [
    "# Add the constraints to the model\n",
    "model += (2 * x + y <= 20, \"red_constraint\")\n",
    "model += (4 * x - 5 * y >= -10, \"blue_constraint\")\n",
    "model += (-x + 2 * y >= -2, \"yellow_constraint\")\n",
    "model += (-x + 5 * y == 15, \"green_constraint\")"
   ]
  },
  {
   "cell_type": "code",
   "execution_count": 5,
   "metadata": {},
   "outputs": [],
   "source": [
    "# Add the objective function to the model\n",
    "obj_func = x + 2 * y\n",
    "model += obj_func"
   ]
  },
  {
   "cell_type": "code",
   "execution_count": 6,
   "metadata": {},
   "outputs": [],
   "source": [
    "# Add the objective function to the model\n",
    "# model += lpSum([x, 2 * y])"
   ]
  },
  {
   "cell_type": "code",
   "execution_count": 7,
   "metadata": {},
   "outputs": [
    {
     "data": {
      "text/plain": [
       "small-problem:\n",
       "MAXIMIZE\n",
       "1*x + 2*y + 0\n",
       "SUBJECT TO\n",
       "red_constraint: 2 x + y <= 20\n",
       "\n",
       "blue_constraint: 4 x - 5 y >= -10\n",
       "\n",
       "yellow_constraint: - x + 2 y >= -2\n",
       "\n",
       "green_constraint: - x + 5 y = 15\n",
       "\n",
       "VARIABLES\n",
       "x Continuous\n",
       "y Continuous"
      ]
     },
     "execution_count": 7,
     "metadata": {},
     "output_type": "execute_result"
    }
   ],
   "source": [
    "model"
   ]
  },
  {
   "cell_type": "code",
   "execution_count": 8,
   "metadata": {},
   "outputs": [],
   "source": [
    "# Solve the problem\n",
    "status = model.solve()"
   ]
  },
  {
   "cell_type": "code",
   "execution_count": 9,
   "metadata": {},
   "outputs": [
    {
     "name": "stdout",
     "output_type": "stream",
     "text": [
      "status: 1, Optimal\n"
     ]
    }
   ],
   "source": [
    "print(f\"status: {model.status}, {LpStatus[model.status]}\")"
   ]
  },
  {
   "cell_type": "code",
   "execution_count": 10,
   "metadata": {},
   "outputs": [
    {
     "name": "stdout",
     "output_type": "stream",
     "text": [
      "objective: 16.8181817\n"
     ]
    }
   ],
   "source": [
    "print(f\"objective: {model.objective.value()}\")"
   ]
  },
  {
   "cell_type": "code",
   "execution_count": 11,
   "metadata": {},
   "outputs": [
    {
     "name": "stdout",
     "output_type": "stream",
     "text": [
      "x: 7.7272727\n",
      "y: 4.5454545\n"
     ]
    }
   ],
   "source": [
    "for var in model.variables():\n",
    "     print(f\"{var.name}: {var.value()}\")"
   ]
  },
  {
   "cell_type": "code",
   "execution_count": 12,
   "metadata": {},
   "outputs": [
    {
     "name": "stdout",
     "output_type": "stream",
     "text": [
      "red_constraint: -9.99999993922529e-08\n",
      "blue_constraint: 18.181818300000003\n",
      "yellow_constraint: 3.3636362999999996\n",
      "green_constraint: -2.0000000233721948e-07\n"
     ]
    }
   ],
   "source": [
    "for name, constraint in model.constraints.items():\n",
    "     print(f\"{name}: {constraint.value()}\")"
   ]
  },
  {
   "cell_type": "code",
   "execution_count": 13,
   "metadata": {},
   "outputs": [
    {
     "data": {
      "text/plain": [
       "[x, y]"
      ]
     },
     "execution_count": 13,
     "metadata": {},
     "output_type": "execute_result"
    }
   ],
   "source": [
    "model.variables()"
   ]
  },
  {
   "cell_type": "code",
   "execution_count": 14,
   "metadata": {},
   "outputs": [
    {
     "data": {
      "text/plain": [
       "True"
      ]
     },
     "execution_count": 14,
     "metadata": {},
     "output_type": "execute_result"
    }
   ],
   "source": [
    "model.variables()[0] is x"
   ]
  },
  {
   "cell_type": "code",
   "execution_count": 15,
   "metadata": {},
   "outputs": [
    {
     "data": {
      "text/plain": [
       "True"
      ]
     },
     "execution_count": 15,
     "metadata": {},
     "output_type": "execute_result"
    }
   ],
   "source": [
    "model.variables()[1] is y"
   ]
  },
  {
   "cell_type": "code",
   "execution_count": 16,
   "metadata": {},
   "outputs": [
    {
     "data": {
      "text/plain": [
       "<pulp.apis.coin_api.PULP_CBC_CMD at 0x2414339ff08>"
      ]
     },
     "execution_count": 16,
     "metadata": {},
     "output_type": "execute_result"
    }
   ],
   "source": [
    "model.solver"
   ]
  },
  {
   "cell_type": "markdown",
   "metadata": {},
   "source": [
    "```python\n",
    "# Create the model\n",
    "model = LpProblem(name=\"small-problem\", sense=LpMaximize)\n",
    "\n",
    "# Initialize the decision variables\n",
    "x = LpVariable(name=\"x\", lowBound=0)\n",
    "y = LpVariable(name=\"y\", lowBound=0)\n",
    "\n",
    "# Add the constraints to the model\n",
    "model += (2 * x + y <= 20, \"red_constraint\")\n",
    "model += (4 * x - 5 * y >= -10, \"blue_constraint\")\n",
    "model += (-x + 2 * y >= -2, \"yellow_constraint\")\n",
    "model += (-x + 5 * y == 15, \"green_constraint\")\n",
    "\n",
    "# Add the objective function to the model\n",
    "model += lpSum([x, 2 * y])\n",
    "\n",
    "# Solve the problem\n",
    "status = model.solve(solver=GLPK(msg=False))\n",
    "```"
   ]
  },
  {
   "cell_type": "code",
   "execution_count": 17,
   "metadata": {},
   "outputs": [],
   "source": [
    "# mixed integer linear programming problem\n",
    "# Create the model\n",
    "model = LpProblem(name=\"small-problem\", sense=LpMaximize)\n",
    "\n",
    "# Initialize the decision variables: x is integer, y is continuous\n",
    "x = LpVariable(name=\"x\", lowBound=0, cat=\"Integer\")\n",
    "y = LpVariable(name=\"y\", lowBound=0)\n",
    "\n",
    "# Add the constraints to the model\n",
    "model += (2 * x + y <= 20, \"red_constraint\")\n",
    "model += (4 * x - 5 * y >= -10, \"blue_constraint\")\n",
    "model += (-x + 2 * y >= -2, \"yellow_constraint\")\n",
    "model += (-x + 5 * y == 15, \"green_constraint\")\n",
    "\n",
    "# Add the objective function to the model\n",
    "model += lpSum([x, 2 * y])\n",
    "\n",
    "# Solve the problem\n",
    "status = model.solve()"
   ]
  },
  {
   "cell_type": "code",
   "execution_count": 18,
   "metadata": {},
   "outputs": [
    {
     "data": {
      "text/plain": [
       "1"
      ]
     },
     "execution_count": 18,
     "metadata": {},
     "output_type": "execute_result"
    }
   ],
   "source": [
    "status"
   ]
  },
  {
   "cell_type": "code",
   "execution_count": 19,
   "metadata": {},
   "outputs": [
    {
     "data": {
      "text/plain": [
       "small-problem:\n",
       "MAXIMIZE\n",
       "1*x + 2*y + 0\n",
       "SUBJECT TO\n",
       "red_constraint: 2 x + y <= 20\n",
       "\n",
       "blue_constraint: 4 x - 5 y >= -10\n",
       "\n",
       "yellow_constraint: - x + 2 y >= -2\n",
       "\n",
       "green_constraint: - x + 5 y = 15\n",
       "\n",
       "VARIABLES\n",
       "0 <= x Integer\n",
       "y Continuous"
      ]
     },
     "execution_count": 19,
     "metadata": {},
     "output_type": "execute_result"
    }
   ],
   "source": [
    "model"
   ]
  },
  {
   "cell_type": "code",
   "execution_count": 20,
   "metadata": {},
   "outputs": [
    {
     "data": {
      "text/plain": [
       "{'objective': {'name': 'OBJ',\n",
       "  'coefficients': [{'name': 'x', 'value': 1}, {'name': 'y', 'value': 2}]},\n",
       " 'constraints': [{'sense': -1,\n",
       "   'pi': -0.0,\n",
       "   'constant': -20,\n",
       "   'name': 'red_constraint',\n",
       "   'coefficients': [{'name': 'x', 'value': 2}, {'name': 'y', 'value': 1}]},\n",
       "  {'sense': 1,\n",
       "   'pi': -0.0,\n",
       "   'constant': 10,\n",
       "   'name': 'blue_constraint',\n",
       "   'coefficients': [{'name': 'x', 'value': 4}, {'name': 'y', 'value': -5}]},\n",
       "  {'sense': 1,\n",
       "   'pi': -0.0,\n",
       "   'constant': 2,\n",
       "   'name': 'yellow_constraint',\n",
       "   'coefficients': [{'name': 'x', 'value': -1}, {'name': 'y', 'value': 2}]},\n",
       "  {'sense': 0,\n",
       "   'pi': 0.4,\n",
       "   'constant': -15,\n",
       "   'name': 'green_constraint',\n",
       "   'coefficients': [{'name': 'x', 'value': -1}, {'name': 'y', 'value': 5}]}],\n",
       " 'variables': [{'lowBound': 0,\n",
       "   'upBound': None,\n",
       "   'cat': 'Integer',\n",
       "   'varValue': 7.0,\n",
       "   'dj': 1.4,\n",
       "   'name': 'x'},\n",
       "  {'lowBound': 0,\n",
       "   'upBound': None,\n",
       "   'cat': 'Continuous',\n",
       "   'varValue': 4.4,\n",
       "   'dj': -0.0,\n",
       "   'name': 'y'}],\n",
       " 'parameters': {'name': 'small-problem',\n",
       "  'sense': -1,\n",
       "  'status': 1,\n",
       "  'sol_status': 1},\n",
       " 'sos1': [],\n",
       " 'sos2': []}"
      ]
     },
     "execution_count": 20,
     "metadata": {},
     "output_type": "execute_result"
    }
   ],
   "source": [
    "model.to_dict()"
   ]
  },
  {
   "cell_type": "markdown",
   "metadata": {},
   "source": [
    "![](https://files.realpython.com/media/lp-py-eq-4.0178c4cfe357.png)"
   ]
  },
  {
   "cell_type": "code",
   "execution_count": 21,
   "metadata": {},
   "outputs": [
    {
     "name": "stdout",
     "output_type": "stream",
     "text": [
      "status: 1, Optimal\n",
      "objective: 1900.0\n",
      "x1: 5.0\n",
      "x2: 0.0\n",
      "x3: 45.0\n",
      "x4: 0.0\n",
      "manpower: 0.0\n",
      "material_a: -40.0\n",
      "material_b: 0.0\n"
     ]
    }
   ],
   "source": [
    "# Define the model\n",
    "model = LpProblem(name=\"resource-allocation\", sense=LpMaximize)\n",
    "\n",
    "# Define the decision variables\n",
    "x = {i: LpVariable(name=f\"x{i}\", lowBound=0) for i in range(1, 5)}\n",
    "\n",
    "# Add constraints\n",
    "model += (lpSum(x.values()) <= 50, \"manpower\")\n",
    "model += (3 * x[1] + 2 * x[2] + x[3] <= 100, \"material_a\")\n",
    "model += (x[2] + 2 * x[3] + 3 * x[4] <= 90, \"material_b\")\n",
    "\n",
    "# Set the objective\n",
    "model += 20 * x[1] + 12 * x[2] + 40 * x[3] + 25 * x[4]\n",
    "\n",
    "# Solve the optimization problem\n",
    "status = model.solve()\n",
    "\n",
    "# Get the results\n",
    "print(f\"status: {model.status}, {LpStatus[model.status]}\")\n",
    "print(f\"objective: {model.objective.value()}\")\n",
    "\n",
    "for var in x.values():\n",
    "    print(f\"{var.name}: {var.value()}\")\n",
    "\n",
    "for name, constraint in model.constraints.items():\n",
    "    print(f\"{name}: {constraint.value()}\")"
   ]
  },
  {
   "cell_type": "code",
   "execution_count": 22,
   "metadata": {},
   "outputs": [
    {
     "name": "stdout",
     "output_type": "stream",
     "text": [
      "status: 1, Optimal\n",
      "objective: 1800.0\n",
      "x1: 0.0\n",
      "x2: 0.0\n",
      "x3: 45.0\n",
      "x4: 0.0\n",
      "y1: 0.0\n",
      "y3: 1.0\n",
      "manpower: -5.0\n",
      "material_a: -55.0\n",
      "material_b: 0.0\n",
      "x1_constraint: 0.0\n",
      "x3_constraint: -55.0\n",
      "y_constraint: 0.0\n"
     ]
    }
   ],
   "source": [
    "# Binary decision variable\n",
    "model = LpProblem(name=\"resource-allocation\", sense=LpMaximize)\n",
    "\n",
    "# Define the decision variables\n",
    "x = {i: LpVariable(name=f\"x{i}\", lowBound=0) for i in range(1, 5)}\n",
    "y = {i: LpVariable(name=f\"y{i}\", cat=\"Binary\") for i in (1, 3)}\n",
    "\n",
    "# Add constraints\n",
    "model += (lpSum(x.values()) <= 50, \"manpower\")\n",
    "model += (3 * x[1] + 2 * x[2] + x[3] <= 100, \"material_a\")\n",
    "model += (x[2] + 2 * x[3] + 3 * x[4] <= 90, \"material_b\")\n",
    "\n",
    "M = 100\n",
    "model += (x[1] <= y[1] * M, \"x1_constraint\")\n",
    "model += (x[3] <= y[3] * M, \"x3_constraint\")\n",
    "model += (y[1] + y[3] <= 1, \"y_constraint\")\n",
    "\n",
    "# Set objective\n",
    "model += 20 * x[1] + 12 * x[2] + 40 * x[3] + 25 * x[4]\n",
    "\n",
    "# Solve the optimization problem\n",
    "status = model.solve()\n",
    "\n",
    "print(f\"status: {model.status}, {LpStatus[model.status]}\")\n",
    "print(f\"objective: {model.objective.value()}\")\n",
    "\n",
    "for var in model.variables():\n",
    "    print(f\"{var.name}: {var.value()}\")\n",
    "\n",
    "for name, constraint in model.constraints.items():\n",
    "    print(f\"{name}: {constraint.value()}\")"
   ]
  },
  {
   "cell_type": "code",
   "execution_count": null,
   "metadata": {},
   "outputs": [],
   "source": []
  }
 ],
 "metadata": {
  "kernelspec": {
   "display_name": "Python 3",
   "language": "python",
   "name": "python3"
  },
  "language_info": {
   "codemirror_mode": {
    "name": "ipython",
    "version": 3
   },
   "file_extension": ".py",
   "mimetype": "text/x-python",
   "name": "python",
   "nbconvert_exporter": "python",
   "pygments_lexer": "ipython3",
   "version": "3.7.9"
  }
 },
 "nbformat": 4,
 "nbformat_minor": 4
}
